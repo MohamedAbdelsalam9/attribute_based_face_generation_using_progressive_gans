{
 "cells": [
  {
   "cell_type": "code",
   "execution_count": 1,
   "metadata": {},
   "outputs": [],
   "source": [
    "import os\n",
    "import time\n",
    "import re\n",
    "import bisect\n",
    "from collections import OrderedDict\n",
    "import numpy as np\n",
    "import tensorflow as tf\n",
    "import scipy.ndimage\n",
    "import scipy.misc\n",
    "\n",
    "import config\n",
    "import misc\n",
    "import tfutil\n",
    "import train\n",
    "import dataset"
   ]
  },
  {
   "cell_type": "code",
   "execution_count": 2,
   "metadata": {},
   "outputs": [],
   "source": [
    "def load_network(run_id = 60, snapshot=None, image_shrink=1, png_prefix=None):\n",
    "    np.random.seed(config.random_seed)\n",
    "    print('Initializing TensorFlow...')\n",
    "    os.environ.update(config.env)\n",
    "    tfutil.init_tf(config.tf_config)\n",
    "    network_pkl = misc.locate_network_pkl(run_id, snapshot)\n",
    "    print('Loading network from \"%s\"...' % network_pkl)\n",
    "    G, D, Gs = misc.load_network_pkl(network_pkl, snapshot)\n",
    "    return Gs"
   ]
  },
  {
   "cell_type": "code",
   "execution_count": 6,
   "metadata": {},
   "outputs": [],
   "source": [
    "def generate_fake_image(labels , Gs, random_seed=1000, image_shrink=1, minibatch_size=8):\n",
    "    random_state = np.random.RandomState(random_seed)\n",
    "    print('Generating image')\n",
    "    latents = misc.random_latents(1, Gs, random_state=random_state)         \n",
    "    image = Gs.run(latents, labels, minibatch_size=minibatch_size, num_gpus=config.num_gpus, out_mul=127.5, out_add=127.5, out_shrink=image_shrink, out_dtype=np.uint8)\n",
    "    image = misc.convert_to_pil_image(misc.create_image_grid(image, grid_size=[1,1]),[0,255])\n",
    "    return np.asarray(image)"
   ]
  },
  {
   "cell_type": "code",
   "execution_count": 4,
   "metadata": {},
   "outputs": [
    {
     "name": "stdout",
     "output_type": "stream",
     "text": [
      "Initializing TensorFlow...\n",
      "Loading network from \"results/060-pgan-celeba-cond-preset-v2-1gpu-fp32-GRAPH/network-snapshot-006067.pkl\"...\n"
     ]
    }
   ],
   "source": [
    "Gs = load_network(run_id = 60, snapshot=6067) #Load Generator"
   ]
  },
  {
   "cell_type": "code",
   "execution_count": 28,
   "metadata": {},
   "outputs": [
    {
     "name": "stdout",
     "output_type": "stream",
     "text": [
      "Generating image\n"
     ]
    },
    {
     "data": {
      "text/plain": [
       "<matplotlib.image.AxesImage at 0x7f0ab5ce1e10>"
      ]
     },
     "execution_count": 28,
     "metadata": {},
     "output_type": "execute_result"
    },
    {
     "data": {
      "image/png": "[encoded data removed]",
      "text/plain": [
       "<matplotlib.figure.Figure at 0x7f0ab5d05438>"
      ]
     },
     "metadata": {},
     "output_type": "display_data"
    }
   ],
   "source": [
    "from matplotlib.pyplot import imshow\n",
    "\n",
    "labels = np.zeros([1, 17], np.float32)\n",
    "labels[:,0] = 1 #5_oclock_shadow\n",
    "labels[:,1] = 0 #wavy_hair\n",
    "labels[:,2] = 0 #Bald\n",
    "labels[:,3] = 0 #Bangs\n",
    "labels[:,4] = 1 #black_hair\n",
    "labels[:,5] = 0 #blond hair\n",
    "labels[:,6] = 0 #brown_hair\n",
    "labels[:,7] = 0 #Eyeglasses\n",
    "labels[:,8] = 0 #goatee\n",
    "labels[:,9] = 0 #gray_hair\n",
    "labels[:,10] = 1 #male\n",
    "labels[:,11] = 0 #mustache\n",
    "labels[:,12] = 0 #no_beard\n",
    "labels[:,13] = 0 #side_burns\n",
    "labels[:,14] = 0 #straigth_hair\n",
    "labels[:,15] = 0 #hat\n",
    "labels[:,16] = 1 #young\n",
    "\n",
    "image = generate_fake_image(labels, Gs, random_seed=None)\n",
    "imshow(image)"
   ]
  },
  {
   "cell_type": "code",
   "execution_count": null,
   "metadata": {},
   "outputs": [],
   "source": []
  }
 ],
 "metadata": {
  "kernelspec": {
   "display_name": "Python 3",
   "language": "python",
   "name": "python3"
  },
  "language_info": {
   "codemirror_mode": {
    "name": "ipython",
    "version": 3
   },
   "file_extension": ".py",
   "mimetype": "text/x-python",
   "name": "python",
   "nbconvert_exporter": "python",
   "pygments_lexer": "ipython3",
   "version": "3.6.0"
  }
 },
 "nbformat": 4,
 "nbformat_minor": 2
}

{
 "cells": [
  {
   "cell_type": "code",
   "execution_count": null,
   "metadata": {},
   "outputs": [],
   "source": [
    "import dataset_tool\n",
    "tfrecord_dir = 'datasets/lfw/lfw32_tfrecords'\n",
    "lfw32_dir = 'datasets/lfw/lfw-deepfunneled-32'\n",
    "import ipdb; ipdb.set_trace() # debugging starts here\n",
    "dataset_tool.create_lfw32(tfrecord_dir, lfw32_dir, with_attributes=True)"
   ]
  },
  {
   "cell_type": "code",
   "execution_count": null,
   "metadata": {},
   "outputs": [],
   "source": [
    "import dataset_tool\n",
    "tfrecord_dir = 'datasets/cifar10/cifar10_tfrecords'\n",
    "cifar10_dir = 'datasets/cifar10/cifar-10-batches-py'\n",
    "import ipdb; ipdb.set_trace() # debugging starts here\n",
    "dataset_tool.create_cifar10(tfrecord_dir, cifar10_dir)"
   ]
  },
  {
   "cell_type": "code",
   "execution_count": null,
   "metadata": {
    "scrolled": true
   },
   "outputs": [
    {
     "name": "stdout",
     "output_type": "stream",
     "text": [
      "--Return--\n",
      "None\n",
      "> \u001b[0;32m<ipython-input-1-a5d9cbb5b333>\u001b[0m(5)\u001b[0;36m<module>\u001b[0;34m()\u001b[0m\n",
      "\u001b[0;32m      4 \u001b[0;31m\u001b[0;31m#celeba_dir = 'datasets/celeba/img_align_celeba_png.7z'\u001b[0m\u001b[0;34m\u001b[0m\u001b[0;34m\u001b[0m\u001b[0m\n",
      "\u001b[0m\u001b[0;32m----> 5 \u001b[0;31m\u001b[0;32mimport\u001b[0m \u001b[0mipdb\u001b[0m\u001b[0;34m;\u001b[0m \u001b[0mipdb\u001b[0m\u001b[0;34m.\u001b[0m\u001b[0mset_trace\u001b[0m\u001b[0;34m(\u001b[0m\u001b[0;34m)\u001b[0m \u001b[0;31m# debugging starts here\u001b[0m\u001b[0;34m\u001b[0m\u001b[0m\n",
      "\u001b[0m\u001b[0;32m      6 \u001b[0;31m\u001b[0mdataset_tool\u001b[0m\u001b[0;34m.\u001b[0m\u001b[0mcreate_celeba\u001b[0m\u001b[0;34m(\u001b[0m\u001b[0mtfrecord_dir\u001b[0m\u001b[0;34m,\u001b[0m \u001b[0mceleba_dir\u001b[0m\u001b[0;34m,\u001b[0m \u001b[0mwith_attributes\u001b[0m\u001b[0;34m=\u001b[0m\u001b[0;32mTrue\u001b[0m\u001b[0;34m)\u001b[0m\u001b[0;34m\u001b[0m\u001b[0m\n",
      "\u001b[0m\n",
      "ipdb> tbreak dataset_tool:589\n",
      "Breakpoint 1 at /mnt/disks/disk1/progressive_growing_of_gans/dataset_tool.py:589\n",
      "ipdb> c\n",
      "Loading CelebA from \"datasets/celeba/\"\n",
      "Deleted breakpoint 1 at /mnt/disks/disk1/progressive_growing_of_gans/dataset_tool.py:589\n",
      "> \u001b[0;32m/mnt/disks/disk1/progressive_growing_of_gans/dataset_tool.py\u001b[0m(589)\u001b[0;36mcreate_celeba\u001b[0;34m()\u001b[0m\n",
      "\u001b[0;32m    588 \u001b[0;31m        \u001b[0mnew_attributes\u001b[0m\u001b[0;34m[\u001b[0m\u001b[0;34m:\u001b[0m\u001b[0;34m,\u001b[0m\u001b[0;36m16\u001b[0m\u001b[0;34m]\u001b[0m \u001b[0;34m=\u001b[0m \u001b[0mattributes\u001b[0m\u001b[0;34m[\u001b[0m\u001b[0;34m:\u001b[0m\u001b[0;34m,\u001b[0m\u001b[0;36m39\u001b[0m\u001b[0;34m]\u001b[0m \u001b[0;31m#young\u001b[0m\u001b[0;34m\u001b[0m\u001b[0m\n",
      "\u001b[0m\u001b[0;32m--> 589 \u001b[0;31m        \u001b[0mattributes\u001b[0m \u001b[0;34m=\u001b[0m \u001b[0mnew_attributes\u001b[0m\u001b[0;34m\u001b[0m\u001b[0m\n",
      "\u001b[0m\u001b[0;32m    590 \u001b[0;31m\u001b[0;34m\u001b[0m\u001b[0m\n",
      "\u001b[0m\n",
      "ipdb> n\n",
      "> \u001b[0;32m/mnt/disks/disk1/progressive_growing_of_gans/dataset_tool.py\u001b[0m(592)\u001b[0;36mcreate_celeba\u001b[0;34m()\u001b[0m\n",
      "\u001b[0;32m    591 \u001b[0;31m\u001b[0;34m\u001b[0m\u001b[0m\n",
      "\u001b[0m\u001b[0;32m--> 592 \u001b[0;31m        \u001b[0;32mwith\u001b[0m \u001b[0mTFRecordExporter\u001b[0m\u001b[0;34m(\u001b[0m\u001b[0mtfrecord_dir\u001b[0m\u001b[0;34m,\u001b[0m \u001b[0mlen\u001b[0m\u001b[0;34m(\u001b[0m\u001b[0mimage_filenames\u001b[0m\u001b[0;34m)\u001b[0m\u001b[0;34m)\u001b[0m \u001b[0;32mas\u001b[0m \u001b[0mtfr\u001b[0m\u001b[0;34m:\u001b[0m \u001b[0;31m##\u001b[0m\u001b[0;34m\u001b[0m\u001b[0m\n",
      "\u001b[0m\u001b[0;32m    593 \u001b[0;31m        \u001b[0;31m#with TFRecordExporter(tfrecord_dir, x) as tfr: #####\u001b[0m\u001b[0;34m\u001b[0m\u001b[0;34m\u001b[0m\u001b[0m\n",
      "\u001b[0m\n",
      "ipdb> sum(attributes(:,9) == 1)\n",
      "*** SyntaxError: invalid syntax\n",
      "ipdb> sum(attributes[:,9] == 1)\n",
      "8499\n",
      "ipdb> sum(attributes(:,10) == 1)\n",
      "*** SyntaxError: invalid syntax\n",
      "ipdb> sum(attributes[:,10] == 1)\n",
      "84434\n",
      "ipdb> sum(attributes[:,11] == 1)\n",
      "8417\n",
      "ipdb> sum(attributes[:,12] == 1)\n",
      "169158\n",
      "ipdb> sum(attributes[:,13] == 1)\n",
      "11449\n",
      "ipdb> sum(attributes[:,14] == 1)\n",
      "42222\n",
      "ipdb> sum(attributes[:,12:14] == [1,1])\n",
      "array([169158,  11449])\n",
      "ipdb> sum(attributes[:,12] == [1] AND attributes[:,13] == [1])\n",
      "*** SyntaxError: invalid syntax\n",
      "ipdb> sum(attributes[:,12] == [1] && attributes[:,13] == [1])\n",
      "*** SyntaxError: invalid syntax\n",
      "ipdb> sum(attributes[:,15] == 1)\n",
      "9818\n",
      "ipdb> sum(attributes[:,16] == 1)\n",
      "156734\n",
      "ipdb> sum((attributes[:,12] == [1]) AND (attributes[:,13] == [1]))\n",
      "*** SyntaxError: invalid syntax\n",
      "ipdb> sum((attributes[:,12] == [1]) and (attributes[:,13] == [1]))\n",
      "*** ValueError: The truth value of an array with more than one element is ambiguous. Use a.any() or a.all()\n",
      "ipdb> attributes[:,12:14] == [1,1]\n",
      "array([[ True, False],\n",
      "       [ True, False],\n",
      "       [ True, False],\n",
      "       ..., \n",
      "       [ True, False],\n",
      "       [ True, False],\n",
      "       [ True, False]], dtype=bool)\n",
      "ipdb> (attributes[:,12:14] == [1,1]) == [True, True])\n",
      "*** SyntaxError: invalid syntax\n",
      "ipdb> attributes[:,12:14] == [1,1]) == [True, True]\n",
      "*** SyntaxError: invalid syntax\n",
      "ipdb> attributes[:,12:14] == [1,1] == [True, True]\n",
      "*** ValueError: The truth value of an array with more than one element is ambiguous. Use a.any() or a.all()\n",
      "ipdb> (attributes[:,12:14] == [1,1]) == [True, True]\n",
      "array([[ True, False],\n",
      "       [ True, False],\n",
      "       [ True, False],\n",
      "       ..., \n",
      "       [ True, False],\n",
      "       [ True, False],\n",
      "       [ True, False]], dtype=bool)\n",
      "ipdb> (attributes[:,12:14] == [1,1]).all\n",
      "<built-in method all of numpy.ndarray object at 0x7fa900055170>\n",
      "ipdb> (attributes[:,12:14] == [1,1]).all[0]\n",
      "*** TypeError: 'builtin_function_or_method' object is not subscriptable\n"
     ]
    }
   ],
   "source": [
    "import dataset_tool\n",
    "tfrecord_dir = 'datasets/celeba/celeba_tfrecords' \n",
    "celeba_dir = 'datasets/celeba/'\n",
    "#celeba_dir = 'datasets/celeba/img_align_celeba_png.7z'\n",
    "import ipdb; ipdb.set_trace() # debugging starts here\n",
    "dataset_tool.create_celeba(tfrecord_dir, celeba_dir, with_attributes=True)"
   ]
  },
  {
   "cell_type": "code",
   "execution_count": null,
   "metadata": {},
   "outputs": [],
   "source": []
  }
 ],
 "metadata": {
  "kernelspec": {
   "display_name": "Python 3",
   "language": "python",
   "name": "python3"
  },
  "language_info": {
   "codemirror_mode": {
    "name": "ipython",
    "version": 3
   },
   "file_extension": ".py",
   "mimetype": "text/x-python",
   "name": "python",
   "nbconvert_exporter": "python",
   "pygments_lexer": "ipython3",
   "version": "3.6.0"
  }
 },
 "nbformat": 4,
 "nbformat_minor": 2
}

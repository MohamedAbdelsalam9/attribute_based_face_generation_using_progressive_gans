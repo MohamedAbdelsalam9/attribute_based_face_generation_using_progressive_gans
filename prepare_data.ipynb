{
 "cells": [
  {
   "cell_type": "code",
   "execution_count": 1,
   "metadata": {},
   "outputs": [],
   "source": [
    "import dataset_tool"
   ]
  },
  {
   "cell_type": "code",
   "execution_count": 3,
   "metadata": {},
   "outputs": [
    {
     "name": "stdout",
     "output_type": "stream",
     "text": [
      "Loading LFW32 from \"datasets/lfw/lfw-deepfunneled-32\"\n",
      "Creating dataset \"datasets/lfw\"\n",
      "Added 13233 images.                     \n"
     ]
    }
   ],
   "source": [
    "tfrecord_dir = 'datasets/lfw/lfw32_tfrecords'\n",
    "lfw32_dir = 'datasets/lfw/lfw-deepfunneled-32'\n",
    "dataset_tool.create_lfw32(tfrecord_dir, lfw32_dir)"
   ]
  },
  {
   "cell_type": "code",
   "execution_count": null,
   "metadata": {},
   "outputs": [],
   "source": []
  }
 ],
 "metadata": {
  "kernelspec": {
   "display_name": "Python 3",
   "language": "python",
   "name": "python3"
  },
  "language_info": {
   "codemirror_mode": {
    "name": "ipython",
    "version": 3
   },
   "file_extension": ".py",
   "mimetype": "text/x-python",
   "name": "python",
   "nbconvert_exporter": "python",
   "pygments_lexer": "ipython3",
   "version": "3.6.0"
  }
 },
 "nbformat": 4,
 "nbformat_minor": 2
}
